{
 "cells": [
  {
   "cell_type": "code",
   "execution_count": 1,
   "id": "8da7573a-2055-492c-a73d-f74b522e95e9",
   "metadata": {},
   "outputs": [],
   "source": [
    "import pandas as pd\n",
    "import matplotlib.pyplot as plt\n",
    "import seaborn as sns\n",
    "\n",
    "from sklearn.model_selection import train_test_split"
   ]
  },
  {
   "cell_type": "code",
   "execution_count": 2,
   "id": "31cd9c24-152c-42e5-9fa8-f8719a6f4ce3",
   "metadata": {},
   "outputs": [],
   "source": [
    "sns.set_theme(palette=sns.color_palette('magma'))"
   ]
  },
  {
   "cell_type": "code",
   "execution_count": 3,
   "id": "ca3ea2ce-1420-485c-bf69-6f31242755aa",
   "metadata": {},
   "outputs": [],
   "source": [
    "import torch\n",
    "import torch.nn as nn\n",
    "from torch.utils.data import Dataset, DataLoader\n",
    "from torchmetrics import ConfusionMatrix, AUROC\n",
    "\n",
    "from transformers import RobertaTokenizer, RobertaForSequenceClassification"
   ]
  },
  {
   "cell_type": "markdown",
   "id": "f8dc75f5-9d53-4d82-aade-80a0c3ba0c2a",
   "metadata": {},
   "source": [
    "### Load preprocessed data"
   ]
  },
  {
   "cell_type": "code",
   "execution_count": 4,
   "id": "7027c1e7-bd88-435e-b591-7b885ff225de",
   "metadata": {},
   "outputs": [],
   "source": [
    "train_data = pd.read_csv('data/train.csv.gz')\n",
    "val_data = pd.read_csv('data/val.csv.gz')\n",
    "test_data = pd.read_csv('data/test.csv.gz')"
   ]
  },
  {
   "cell_type": "code",
   "execution_count": 5,
   "id": "74907c31-2d7f-4524-8f1a-7194ec323b75",
   "metadata": {},
   "outputs": [
    {
     "data": {
      "text/html": [
       "<div>\n",
       "<style scoped>\n",
       "    .dataframe tbody tr th:only-of-type {\n",
       "        vertical-align: middle;\n",
       "    }\n",
       "\n",
       "    .dataframe tbody tr th {\n",
       "        vertical-align: top;\n",
       "    }\n",
       "\n",
       "    .dataframe thead th {\n",
       "        text-align: right;\n",
       "    }\n",
       "</style>\n",
       "<table border=\"1\" class=\"dataframe\">\n",
       "  <thead>\n",
       "    <tr style=\"text-align: right;\">\n",
       "      <th></th>\n",
       "      <th>text</th>\n",
       "      <th>topic</th>\n",
       "    </tr>\n",
       "  </thead>\n",
       "  <tbody>\n",
       "    <tr>\n",
       "      <th>0</th>\n",
       "      <td>Тренер филиппинского боксера Мэнни Пакиао Фред...</td>\n",
       "      <td>Спорт</td>\n",
       "    </tr>\n",
       "    <tr>\n",
       "      <th>1</th>\n",
       "      <td>Российский боксер Денис Лебедев рассказал поед...</td>\n",
       "      <td>Спорт</td>\n",
       "    </tr>\n",
       "    <tr>\n",
       "      <th>2</th>\n",
       "      <td>На найти качественные товары детей , функциона...</td>\n",
       "      <td>Семья</td>\n",
       "    </tr>\n",
       "    <tr>\n",
       "      <th>3</th>\n",
       "      <td>Международная группа физиков России , Великобр...</td>\n",
       "      <td>Космос</td>\n",
       "    </tr>\n",
       "    <tr>\n",
       "      <th>4</th>\n",
       "      <td>Лето самом разгаре , асфальт плавится жары , м...</td>\n",
       "      <td>Здоровье</td>\n",
       "    </tr>\n",
       "  </tbody>\n",
       "</table>\n",
       "</div>"
      ],
      "text/plain": [
       "                                                text     topic\n",
       "0  Тренер филиппинского боксера Мэнни Пакиао Фред...     Спорт\n",
       "1  Российский боксер Денис Лебедев рассказал поед...     Спорт\n",
       "2  На найти качественные товары детей , функциона...     Семья\n",
       "3  Международная группа физиков России , Великобр...    Космос\n",
       "4  Лето самом разгаре , асфальт плавится жары , м...  Здоровье"
      ]
     },
     "execution_count": 5,
     "metadata": {},
     "output_type": "execute_result"
    }
   ],
   "source": [
    "train_data.head()"
   ]
  },
  {
   "cell_type": "code",
   "execution_count": 6,
   "id": "b2b8216d-e724-4a40-97bc-e065fbea6912",
   "metadata": {},
   "outputs": [
    {
     "data": {
      "text/plain": [
       "{'Спорт': 0,\n",
       " 'Семья': 1,\n",
       " 'Космос': 2,\n",
       " 'Здоровье': 3,\n",
       " 'Кино и телевидение': 4,\n",
       " 'Компьютерные игры': 5,\n",
       " 'Красота и мода': 6,\n",
       " 'Политика': 7,\n",
       " 'Экономика': 8,\n",
       " 'Животные': 9,\n",
       " 'Преступления': 10,\n",
       " 'Дома и недвижимость': 11,\n",
       " 'Социальная сфера': 12,\n",
       " 'Наука и технологии': 13,\n",
       " 'Еда и рецепты': 14,\n",
       " 'Культура и искусство': 15,\n",
       " 'Автомобили': 16}"
      ]
     },
     "execution_count": 6,
     "metadata": {},
     "output_type": "execute_result"
    }
   ],
   "source": [
    "TOPICS = train_data.topic.unique()\n",
    "N_TOPICS = len(TOPICS)\n",
    "\n",
    "TOPIC2ID = {topic: i for i, topic in enumerate(TOPICS)}\n",
    "TOPIC2ID"
   ]
  },
  {
   "cell_type": "code",
   "execution_count": 7,
   "id": "106c7300-4fc1-4440-8360-5001541d0339",
   "metadata": {},
   "outputs": [
    {
     "data": {
      "text/plain": [
       "(17426, 5809, 7746)"
      ]
     },
     "execution_count": 7,
     "metadata": {},
     "output_type": "execute_result"
    }
   ],
   "source": [
    "len(train_data), len(val_data), len(test_data)"
   ]
  },
  {
   "cell_type": "markdown",
   "id": "862369d6-b5b5-48aa-82da-e1ddb6f0322f",
   "metadata": {},
   "source": [
    "### Load pretrained tokenizer and model (RuRoberta)"
   ]
  },
  {
   "cell_type": "code",
   "execution_count": 8,
   "id": "1ea8e9f3-912d-474a-902a-343b146ce644",
   "metadata": {},
   "outputs": [
    {
     "data": {
      "text/plain": [
       "device(type='cuda')"
      ]
     },
     "execution_count": 8,
     "metadata": {},
     "output_type": "execute_result"
    }
   ],
   "source": [
    "DEVICE = torch.device('cuda' if torch.cuda.is_available() else 'cpu')\n",
    "DEVICE"
   ]
  },
  {
   "cell_type": "code",
   "execution_count": 9,
   "id": "d89dd60c-b05b-4d78-bbb2-7e0573e30bd3",
   "metadata": {},
   "outputs": [
    {
     "name": "stderr",
     "output_type": "stream",
     "text": [
      "Some weights of RobertaForSequenceClassification were not initialized from the model checkpoint at ai-forever/ruRoberta-large and are newly initialized: ['classifier.dense.bias', 'classifier.dense.weight', 'classifier.out_proj.bias', 'classifier.out_proj.weight']\n",
      "You should probably TRAIN this model on a down-stream task to be able to use it for predictions and inference.\n"
     ]
    }
   ],
   "source": [
    "CHECKPOINT = 'ai-forever/ruRoberta-large'\n",
    "MAX_LENGTH = 512\n",
    "\n",
    "tokenizer = RobertaTokenizer.from_pretrained(CHECKPOINT)\n",
    "model = RobertaForSequenceClassification.from_pretrained(CHECKPOINT, num_labels=N_TOPICS).to(DEVICE)"
   ]
  },
  {
   "cell_type": "markdown",
   "id": "f631fe27-643a-4a31-92ac-b9efbdc73af3",
   "metadata": {},
   "source": [
    "### Implement dataset class"
   ]
  },
  {
   "cell_type": "code",
   "execution_count": 10,
   "id": "b3900af1-e074-40ff-b89f-d02a50b4b72e",
   "metadata": {},
   "outputs": [],
   "source": [
    "class SequenceDataset(Dataset):\n",
    "    def __init__(self, data: pd.DataFrame) -> None:\n",
    "        self.X = tokenizer(data.text.to_list(), padding=True, truncation=True, max_length=MAX_LENGTH,\n",
    "                           add_special_tokens=True, return_tensors='pt')\n",
    "        self.y = data.topic.to_list()\n",
    "\n",
    "    def __getitem__(self, index: int) -> dict:\n",
    "        return {'input_ids': self.X['input_ids'][index],\n",
    "                'attention_mask': self.X['attention_mask'][index],\n",
    "                'labels': TOPIC2ID[self.y[index]]}\n",
    "\n",
    "    def __len__(self) -> int:\n",
    "        return len(self.y)"
   ]
  },
  {
   "cell_type": "markdown",
   "id": "03bfa938-29ee-4045-b2e0-05a19ea768b1",
   "metadata": {},
   "source": [
    "### Create train dataset and dataloader"
   ]
  },
  {
   "cell_type": "code",
   "execution_count": 11,
   "id": "7e7a4654-a440-4e59-b0b5-559af399156b",
   "metadata": {},
   "outputs": [],
   "source": [
    "train_dataset = SequenceDataset(train_data)\n",
    "train_dataloader = DataLoader(train_dataset, batch_size=6, shuffle=True)"
   ]
  },
  {
   "cell_type": "markdown",
   "id": "464331bb-8066-48b3-baec-2273fd26a106",
   "metadata": {},
   "source": [
    "### Fine-tune model"
   ]
  },
  {
   "cell_type": "code",
   "execution_count": 12,
   "id": "ff63ba57-c8cd-4c1a-ac12-2f4960ae1caa",
   "metadata": {
    "scrolled": true
   },
   "outputs": [
    {
     "name": "stdout",
     "output_type": "stream",
     "text": [
      "tensor(2.7439, device='cuda:0', grad_fn=<NllLossBackward0>)\n",
      "tensor(2.6703, device='cuda:0', grad_fn=<NllLossBackward0>)\n",
      "tensor(2.1970, device='cuda:0', grad_fn=<NllLossBackward0>)\n",
      "tensor(1.2934, device='cuda:0', grad_fn=<NllLossBackward0>)\n",
      "tensor(0.5004, device='cuda:0', grad_fn=<NllLossBackward0>)\n",
      "tensor(0.8862, device='cuda:0', grad_fn=<NllLossBackward0>)\n",
      "tensor(0.3726, device='cuda:0', grad_fn=<NllLossBackward0>)\n",
      "tensor(0.4089, device='cuda:0', grad_fn=<NllLossBackward0>)\n",
      "tensor(0.4586, device='cuda:0', grad_fn=<NllLossBackward0>)\n",
      "tensor(0.7730, device='cuda:0', grad_fn=<NllLossBackward0>)\n",
      "tensor(0.8533, device='cuda:0', grad_fn=<NllLossBackward0>)\n",
      "tensor(0.3169, device='cuda:0', grad_fn=<NllLossBackward0>)\n",
      "tensor(0.1348, device='cuda:0', grad_fn=<NllLossBackward0>)\n",
      "tensor(0.1366, device='cuda:0', grad_fn=<NllLossBackward0>)\n",
      "tensor(0.2619, device='cuda:0', grad_fn=<NllLossBackward0>)\n",
      "tensor(1.0921, device='cuda:0', grad_fn=<NllLossBackward0>)\n",
      "tensor(0.3746, device='cuda:0', grad_fn=<NllLossBackward0>)\n",
      "tensor(1.1369, device='cuda:0', grad_fn=<NllLossBackward0>)\n",
      "tensor(1.3878, device='cuda:0', grad_fn=<NllLossBackward0>)\n",
      "tensor(0.1021, device='cuda:0', grad_fn=<NllLossBackward0>)\n",
      "tensor(0.0890, device='cuda:0', grad_fn=<NllLossBackward0>)\n",
      "tensor(0.0523, device='cuda:0', grad_fn=<NllLossBackward0>)\n",
      "tensor(1.2881, device='cuda:0', grad_fn=<NllLossBackward0>)\n",
      "tensor(1.5273, device='cuda:0', grad_fn=<NllLossBackward0>)\n",
      "tensor(0.0715, device='cuda:0', grad_fn=<NllLossBackward0>)\n",
      "tensor(0.1052, device='cuda:0', grad_fn=<NllLossBackward0>)\n",
      "tensor(0.2028, device='cuda:0', grad_fn=<NllLossBackward0>)\n",
      "tensor(0.0886, device='cuda:0', grad_fn=<NllLossBackward0>)\n",
      "tensor(0.1170, device='cuda:0', grad_fn=<NllLossBackward0>)\n",
      "tensor(0.1313, device='cuda:0', grad_fn=<NllLossBackward0>)\n",
      "tensor(0.1101, device='cuda:0', grad_fn=<NllLossBackward0>)\n",
      "tensor(0.3408, device='cuda:0', grad_fn=<NllLossBackward0>)\n",
      "tensor(0.9732, device='cuda:0', grad_fn=<NllLossBackward0>)\n",
      "tensor(0.1456, device='cuda:0', grad_fn=<NllLossBackward0>)\n",
      "tensor(1.6948, device='cuda:0', grad_fn=<NllLossBackward0>)\n",
      "tensor(0.1966, device='cuda:0', grad_fn=<NllLossBackward0>)\n",
      "tensor(0.4640, device='cuda:0', grad_fn=<NllLossBackward0>)\n",
      "tensor(1.1403, device='cuda:0', grad_fn=<NllLossBackward0>)\n",
      "tensor(0.1053, device='cuda:0', grad_fn=<NllLossBackward0>)\n",
      "tensor(0.1769, device='cuda:0', grad_fn=<NllLossBackward0>)\n",
      "tensor(0.0418, device='cuda:0', grad_fn=<NllLossBackward0>)\n",
      "tensor(0.1960, device='cuda:0', grad_fn=<NllLossBackward0>)\n",
      "tensor(0.1813, device='cuda:0', grad_fn=<NllLossBackward0>)\n",
      "tensor(0.6723, device='cuda:0', grad_fn=<NllLossBackward0>)\n",
      "tensor(0.8326, device='cuda:0', grad_fn=<NllLossBackward0>)\n",
      "tensor(0.1546, device='cuda:0', grad_fn=<NllLossBackward0>)\n",
      "tensor(0.0551, device='cuda:0', grad_fn=<NllLossBackward0>)\n",
      "tensor(0.1622, device='cuda:0', grad_fn=<NllLossBackward0>)\n",
      "tensor(0.1260, device='cuda:0', grad_fn=<NllLossBackward0>)\n",
      "tensor(0.2388, device='cuda:0', grad_fn=<NllLossBackward0>)\n",
      "tensor(0.7932, device='cuda:0', grad_fn=<NllLossBackward0>)\n",
      "tensor(0.0769, device='cuda:0', grad_fn=<NllLossBackward0>)\n",
      "tensor(0.6292, device='cuda:0', grad_fn=<NllLossBackward0>)\n",
      "tensor(0.0288, device='cuda:0', grad_fn=<NllLossBackward0>)\n",
      "tensor(0.1993, device='cuda:0', grad_fn=<NllLossBackward0>)\n",
      "tensor(0.3855, device='cuda:0', grad_fn=<NllLossBackward0>)\n",
      "tensor(0.1929, device='cuda:0', grad_fn=<NllLossBackward0>)\n",
      "tensor(1.1281, device='cuda:0', grad_fn=<NllLossBackward0>)\n",
      "tensor(0.2139, device='cuda:0', grad_fn=<NllLossBackward0>)\n"
     ]
    }
   ],
   "source": [
    "N_EPOCHS = 1\n",
    "optimizer = torch.optim.AdamW(model.parameters(), lr=1e-5)\n",
    "\n",
    "model.train()\n",
    "\n",
    "for epoch in range(N_EPOCHS):\n",
    "    for i, batch in enumerate(train_dataloader):\n",
    "        batch = {key: value.to(DEVICE) for key, value in batch.items()}\n",
    "\n",
    "        optimizer.zero_grad()\n",
    "        loss = model(**batch).loss\n",
    "        loss.backward()\n",
    "        optimizer.step()\n",
    "\n",
    "        if i % 50 == 0:\n",
    "            print(loss)"
   ]
  },
  {
   "cell_type": "markdown",
   "id": "178fbe12-fb5a-4a07-9041-e4407658a734",
   "metadata": {},
   "source": [
    "### Save model"
   ]
  },
  {
   "cell_type": "code",
   "execution_count": 13,
   "id": "8e869527-6363-4bd3-bb5a-6254082b8f0d",
   "metadata": {},
   "outputs": [],
   "source": [
    "model.save_pretrained('models/roberta-for-topic-prediction', from_pt=True)"
   ]
  },
  {
   "cell_type": "markdown",
   "id": "29ec218e-f428-445a-96ce-83b25f83720c",
   "metadata": {},
   "source": [
    "### Compute metrics on test data"
   ]
  },
  {
   "cell_type": "code",
   "execution_count": 14,
   "id": "e3fcd09a-fd63-4ba8-87e6-e8841885723b",
   "metadata": {},
   "outputs": [],
   "source": [
    "from torcheval.metrics.functional import multiclass_f1_score\n",
    "from torchmetrics import ROC\n",
    "from torchmetrics.classification import MulticlassROC"
   ]
  },
  {
   "cell_type": "code",
   "execution_count": 16,
   "id": "52f6b710-1e13-48b3-b59d-b2a6669347a7",
   "metadata": {},
   "outputs": [],
   "source": [
    "test_dataset = SequenceDataset(test_data)\n",
    "test_dataloader = DataLoader(test_dataset, batch_size=6)"
   ]
  },
  {
   "cell_type": "code",
   "execution_count": 18,
   "id": "cad8f617-0ac2-48f7-aa9b-d25118c8ea5b",
   "metadata": {},
   "outputs": [],
   "source": [
    "model.eval()\n",
    "\n",
    "targets = []\n",
    "predictions = []\n",
    "probabilities = []\n",
    "\n",
    "with torch.no_grad():\n",
    "    for batch in test_dataloader:\n",
    "        batch = {key: value.to(DEVICE) for key, value in batch.items()}\n",
    "\n",
    "        outputs = model(**batch)\n",
    "\n",
    "        targets.append(batch['labels'])\n",
    "        p = torch.softmax(outputs.logits, dim=1)\n",
    "        \n",
    "        predictions.append(p.argmax(dim=1))\n",
    "        probabilities.append(p)"
   ]
  },
  {
   "cell_type": "code",
   "execution_count": 19,
   "id": "de7c6746-ed40-4702-a740-6c3889c1bbd3",
   "metadata": {},
   "outputs": [],
   "source": [
    "predictions_merged = torch.hstack(predictions)\n",
    "targets_merged = torch.hstack(targets)\n",
    "probabilities_merged = torch.vstack(probabilities)"
   ]
  },
  {
   "cell_type": "markdown",
   "id": "6631b909-cc19-44db-ad63-c868c9694d98",
   "metadata": {},
   "source": [
    "### Confusion matrix"
   ]
  },
  {
   "cell_type": "code",
   "execution_count": 20,
   "id": "691ac80b-5c27-4382-b004-9c20f18f663d",
   "metadata": {},
   "outputs": [],
   "source": [
    "confusion_matrix = ConfusionMatrix(task='multiclass', num_classes=N_TOPICS, normalize='true').to(DEVICE)"
   ]
  },
  {
   "cell_type": "code",
   "execution_count": 22,
   "id": "53b4e0e8-6a78-471c-b8b6-b531b4dc8bad",
   "metadata": {},
   "outputs": [
    {
     "data": {
      "image/png": "[encoded data removed]",
      "text/plain": [
       "<Figure size 640x480 with 2 Axes>"
      ]
     },
     "metadata": {},
     "output_type": "display_data"
    }
   ],
   "source": [
    "sns.heatmap(confusion_matrix(predictions_merged, targets_merged).detach().cpu())\n",
    "plt.savefig('plots/confusion_matrix.png', dpi=400, bbox_inches='tight')"
   ]
  },
  {
   "cell_type": "markdown",
   "id": "47af4943-3b47-42ca-898a-8472f10291d8",
   "metadata": {},
   "source": [
    "### F1-score"
   ]
  },
  {
   "cell_type": "code",
   "execution_count": 23,
   "id": "f3cc55fd-409a-4211-9f06-00f6d61e89e7",
   "metadata": {},
   "outputs": [
    {
     "data": {
      "text/plain": [
       "tensor(0.8916, device='cuda:0')"
      ]
     },
     "execution_count": 23,
     "metadata": {},
     "output_type": "execute_result"
    }
   ],
   "source": [
    "multiclass_f1_score(predictions_merged, targets_merged, num_classes=N_TOPICS)"
   ]
  },
  {
   "cell_type": "markdown",
   "id": "a1cf63af-6018-4124-875f-cc39bc218f03",
   "metadata": {},
   "source": [
    "### AUC ROC"
   ]
  },
  {
   "cell_type": "code",
   "execution_count": 24,
   "id": "869732ff-1a2e-4521-8b12-399ffa0e3795",
   "metadata": {},
   "outputs": [],
   "source": [
    "from torchmetrics import AUROC"
   ]
  },
  {
   "cell_type": "code",
   "execution_count": 25,
   "id": "4ee1b5dd-e578-43e8-8aaf-f2981dfe530a",
   "metadata": {},
   "outputs": [
    {
     "name": "stdout",
     "output_type": "stream",
     "text": [
      "AUC ROC:\ttensor(0.9934, device='cuda:0')\n"
     ]
    }
   ],
   "source": [
    "auroc = AUROC(task='multiclass', num_classes=N_TOPICS)\n",
    "print('AUC ROC:', auroc(probabilities_merged, targets_merged), sep='\\t')"
   ]
  },
  {
   "cell_type": "code",
   "execution_count": 30,
   "id": "497e16e8-46b3-480f-a533-7d17d7fc1478",
   "metadata": {},
   "outputs": [
    {
     "data": {
      "image/png": "[encoded data removed]",
      "text/plain": [
       "<Figure size 640x480 with 1 Axes>"
      ]
     },
     "metadata": {},
     "output_type": "display_data"
    }
   ],
   "source": [
    "multiclass_roc = MulticlassROC(num_classes=N_TOPICS)\n",
    "multiclass_roc.update(probabilities_merged, targets_merged)\n",
    "multiclass_roc.plot(score=True)\n",
    "\n",
    "plt.savefig('plots/roc_curve.png', dpi=400, bbox_inches='tight')"
   ]
  }
 ],
 "metadata": {
  "kernelspec": {
   "display_name": "Python 3 (ipykernel)",
   "language": "python",
   "name": "python3"
  },
  "language_info": {
   "codemirror_mode": {
    "name": "ipython",
    "version": 3
   },
   "file_extension": ".py",
   "mimetype": "text/x-python",
   "name": "python",
   "nbconvert_exporter": "python",
   "pygments_lexer": "ipython3",
   "version": "3.11.8"
  }
 },
 "nbformat": 4,
 "nbformat_minor": 5
}
